{
 "cells": [
  {
   "cell_type": "markdown",
   "id": "9b7a7c44",
   "metadata": {},
   "source": [
    "# Data Science Tools and Ecosystem"
   ]
  },
  {
   "cell_type": "markdown",
   "id": "41ba344c",
   "metadata": {},
   "source": [
    "In this notebook, Data Science Tools and Ecosystem are summarized."
   ]
  },
  {
   "cell_type": "markdown",
   "id": "29c547e5",
   "metadata": {},
   "source": [
    "**Objectives:**\n",
    "    <ul>\n",
    "<li>List popular languages for Data Science</li>\n",
    "<li>Data Science Tools</li>\n",
    "<li>Some of the commonly used libraries used by Data Scientists include</li>\n",
    "</ul>"
   ]
  },
  {
   "cell_type": "markdown",
   "id": "aad35356",
   "metadata": {},
   "source": [
    "Some of the popular languages that Data Scientists use are:\n",
    "<ol>\n",
    "<li>Python</li>\n",
    "<li>R</li>\n",
    "<li>SQL</li>\n",
    "</ol>"
   ]
  },
  {
   "cell_type": "markdown",
   "id": "fbfd860e",
   "metadata": {},
   "source": [
    "Some of the commonly used libraries used by Data Scientists include:\n",
    "    <ol>\n",
    "<li>Numpy</li>\n",
    "<li>Pandas</li>\n",
    "<li>Tensorflow</li>\n",
    "</ol>"
   ]
  },
  {
   "cell_type": "markdown",
   "id": "ba86187f",
   "metadata": {},
   "source": [
    "Data Science Tools\n",
    "------------------\n",
    "RStudio \n",
    "Apache Spark \n",
    "TensorFlow"
   ]
  },
  {
   "cell_type": "markdown",
   "id": "c64a73b5",
   "metadata": {},
   "source": [
    "### Below are a few examples of evaluating arithmetic expressions in Python"
   ]
  },
  {
   "cell_type": "code",
   "execution_count": 5,
   "id": "f2ff61d4",
   "metadata": {},
   "outputs": [
    {
     "data": {
      "text/plain": [
       "30"
      ]
     },
     "execution_count": 5,
     "metadata": {},
     "output_type": "execute_result"
    }
   ],
   "source": [
    "a=10\n",
    "b=20\n",
    "a+b"
   ]
  },
  {
   "cell_type": "code",
   "execution_count": 6,
   "id": "1bb11440",
   "metadata": {},
   "outputs": [
    {
     "data": {
      "text/plain": [
       "12"
      ]
     },
     "execution_count": 6,
     "metadata": {},
     "output_type": "execute_result"
    }
   ],
   "source": [
    "a=5\n",
    "b=7\n",
    "b-a+10"
   ]
  },
  {
   "cell_type": "markdown",
   "id": "a2a702e4",
   "metadata": {},
   "source": [
    " This a simple arithmetic expression to mutiply then add integers"
   ]
  },
  {
   "cell_type": "code",
   "execution_count": 7,
   "id": "9a1f6717",
   "metadata": {},
   "outputs": [
    {
     "data": {
      "text/plain": [
       "17"
      ]
     },
     "execution_count": 7,
     "metadata": {},
     "output_type": "execute_result"
    }
   ],
   "source": [
    "(3*4)+5"
   ]
  },
  {
   "cell_type": "code",
   "execution_count": 8,
   "id": "243d8354",
   "metadata": {},
   "outputs": [
    {
     "name": "stdout",
     "output_type": "stream",
     "text": [
      "Enter Minutes :--> 200\n",
      "Hour : Minute :-->  3  :  20\n"
     ]
    }
   ],
   "source": [
    "min = int(input(\"Enter Minutes :--> \"))\n",
    "print(\"Hour : Minute :--> \", int(min/60), \" : \", min % 60)"
   ]
  },
  {
   "cell_type": "markdown",
   "id": "6faeaf04",
   "metadata": {},
   "source": [
    "## Author\n",
    "Hasancan Ekin"
   ]
  },
  {
   "cell_type": "code",
   "execution_count": null,
   "id": "268aac50",
   "metadata": {},
   "outputs": [],
   "source": []
  }
 ],
 "metadata": {
  "kernelspec": {
   "display_name": "Python 3 (ipykernel)",
   "language": "python",
   "name": "python3"
  },
  "language_info": {
   "codemirror_mode": {
    "name": "ipython",
    "version": 3
   },
   "file_extension": ".py",
   "mimetype": "text/x-python",
   "name": "python",
   "nbconvert_exporter": "python",
   "pygments_lexer": "ipython3",
   "version": "3.10.9"
  }
 },
 "nbformat": 4,
 "nbformat_minor": 5
}
